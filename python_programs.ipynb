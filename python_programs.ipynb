{
  "nbformat": 4,
  "nbformat_minor": 0,
  "metadata": {
    "colab": {
      "provenance": [],
      "authorship_tag": "ABX9TyMEbNUh4LjOZyqwD1LblVGe",
      "include_colab_link": true
    },
    "kernelspec": {
      "name": "python3",
      "display_name": "Python 3"
    },
    "language_info": {
      "name": "python"
    }
  },
  "cells": [
    {
      "cell_type": "markdown",
      "metadata": {
        "id": "view-in-github",
        "colab_type": "text"
      },
      "source": [
        "<a href=\"https://colab.research.google.com/github/Sivalakshmiee/Programs/blob/main/python_programs.ipynb\" target=\"_parent\"><img src=\"https://colab.research.google.com/assets/colab-badge.svg\" alt=\"Open In Colab\"/></a>"
      ]
    },
    {
      "cell_type": "code",
      "execution_count": null,
      "metadata": {
        "id": "4qZIBbzg-X6r"
      },
      "outputs": [],
      "source": [
        "x = 2\n",
        "y = 3\n",
        "x + y"
      ]
    },
    {
      "cell_type": "code",
      "source": [
        "x = x + 2"
      ],
      "metadata": {
        "id": "y9miACInJjaI"
      },
      "execution_count": null,
      "outputs": []
    },
    {
      "cell_type": "code",
      "source": [
        "x = x + 2"
      ],
      "metadata": {
        "id": "lEjOETxIJMFZ"
      },
      "execution_count": null,
      "outputs": []
    },
    {
      "cell_type": "code",
      "source": [
        "a,b = 5,6\n",
        "a\n",
        "b"
      ],
      "metadata": {
        "id": "JZg9Ieev-iOZ"
      },
      "execution_count": null,
      "outputs": []
    },
    {
      "cell_type": "code",
      "source": [
        "n = 7\n",
        "n\n",
        "-n #unary"
      ],
      "metadata": {
        "id": "bMKnifJ1J8uB"
      },
      "execution_count": null,
      "outputs": []
    },
    {
      "cell_type": "code",
      "source": [
        "#relational\n",
        "a = 5\n",
        "b = 6\n",
        "a > b\n",
        "a==b\n",
        "a = 6\n",
        "a == b\n",
        "a <= b\n",
        "a >= b\n",
        "a != b"
      ],
      "metadata": {
        "id": "Gy6_ShI_KJeG"
      },
      "execution_count": null,
      "outputs": []
    },
    {
      "cell_type": "code",
      "source": [
        "#logical\n",
        "a = 5\n",
        "b = 4\n",
        "a < 8 and b < 5\n",
        "a < 8 or b < 2\n",
        "x = False\n",
        "not x"
      ],
      "metadata": {
        "id": "wF9uW-JPKwAU"
      },
      "execution_count": null,
      "outputs": []
    },
    {
      "cell_type": "markdown",
      "source": [
        "Number System Conversion\n"
      ],
      "metadata": {
        "id": "c9PohcxSLvDO"
      }
    },
    {
      "cell_type": "code",
      "source": [
        "bin(25)  #decimal (0-9)to binary 0,1\n",
        "0b110\n",
        "oct(25)\n",
        "hex(25)\n",
        "hex(10)\n",
        "0xf\n",
        "bin(31)\n",
        "0b11111"
      ],
      "metadata": {
        "id": "g4igkK1bLypK"
      },
      "execution_count": null,
      "outputs": []
    },
    {
      "cell_type": "code",
      "source": [
        "#swap\n",
        "a = 4\n",
        "b = 6\n",
        "\n",
        "#temp = a\n",
        "#a = b\n",
        "#b = temp\n",
        "\n",
        "#a = a ^ b #formula\n",
        "#b = a ^ b\n",
        "#a = a ^ b\n",
        "\n",
        "a, b = b, a\n",
        "\n",
        "print(a)\n",
        "print(b)"
      ],
      "metadata": {
        "id": "U3c2wJLjOIQx"
      },
      "execution_count": null,
      "outputs": []
    },
    {
      "cell_type": "code",
      "source": [
        "#bitwise\n",
        "~12 #reverse of 12 in binary format, take 2's complement\n",
        "\n",
        "#bitwise and\n",
        "12 & 13  # convert binary do and operations\n",
        "\n",
        "12 | 13\n",
        "\n",
        "25 & 30\n",
        "\n",
        "#xor\n",
        "12 ^ 13\n",
        "\n",
        "#leftshit\n",
        "10 << 2\n",
        "\n",
        "#rightshit\n",
        "10 >> 2"
      ],
      "metadata": {
        "id": "DxRz-CYBP_e9"
      },
      "execution_count": null,
      "outputs": []
    },
    {
      "cell_type": "code",
      "source": [
        "#Import math functions in python\n",
        "\n",
        "import math as m\n",
        "\n",
        "x = math.sqrt(25)\n",
        "\n",
        "x\n",
        "\n",
        "print(math.ceil(2.9)) #floor give lowest, ceil gives highest\n",
        "\n",
        "print(math.pow(3,2))\n",
        "\n",
        "m.sqrt(15)\n",
        "\n",
        "\n"
      ],
      "metadata": {
        "id": "vRnj-ZC9TG3O"
      },
      "execution_count": null,
      "outputs": []
    },
    {
      "cell_type": "code",
      "source": [
        "from math import sqrt, pow\n",
        "\n",
        "pow(2,3)"
      ],
      "metadata": {
        "id": "bMKu_Ws2Uw8y"
      },
      "execution_count": null,
      "outputs": []
    },
    {
      "cell_type": "code",
      "source": [
        "#user input in python\n",
        "x = int(input(\"number1:\"))\n",
        "y = int(input(\"number2:\"))\n",
        "z = x + y\n",
        "print(z)"
      ],
      "metadata": {
        "id": "-0Quex_BXDH_"
      },
      "execution_count": null,
      "outputs": []
    },
    {
      "cell_type": "code",
      "source": [
        "ch = eval(input('enter a expression'))\n",
        "print(ch)"
      ],
      "metadata": {
        "id": "kPm37Zd9YJif"
      },
      "execution_count": null,
      "outputs": []
    },
    {
      "cell_type": "code",
      "source": [
        "import sys\n",
        "\n",
        "x = sys.argv[1]\n",
        "y = sys.argv[2]\n",
        "z = x + y\n",
        "print(z)"
      ],
      "metadata": {
        "id": "AOp2BaLwZdHx"
      },
      "execution_count": null,
      "outputs": []
    },
    {
      "cell_type": "code",
      "source": [
        "#if else elif\n",
        "x = 8\n",
        "r = x % 2\n",
        "if r == 0:\n",
        "  print(\"even\")\n",
        "  if x > 5:\n",
        "    print(\"greater\")\n",
        "  else:\n",
        "    print(\"Less\")\n",
        "else:\n",
        "  print(\"odd\")\n",
        "\n",
        "\n",
        "print(\"Bye\")"
      ],
      "metadata": {
        "id": "no0d-OYRtS26"
      },
      "execution_count": null,
      "outputs": []
    },
    {
      "cell_type": "code",
      "source": [
        "#if else elif\n",
        "\n",
        "x = 5\n",
        "\n",
        "\n",
        "if x == 1:\n",
        "  print(\"1\")\n",
        "\n",
        "elif x == 2:\n",
        "  print(\"2\")\n",
        "\n",
        "elif x == 3:\n",
        "  print(\"3\")\n",
        "\n",
        "else:\n",
        "  print(\"wrong input\")\n",
        "\n"
      ],
      "metadata": {
        "colab": {
          "base_uri": "https://localhost:8080/"
        },
        "id": "8FUdW9eXzjXb",
        "outputId": "22fe3844-0d0a-4d22-e458-92ae9e862812"
      },
      "execution_count": null,
      "outputs": [
        {
          "output_type": "stream",
          "name": "stdout",
          "text": [
            "wrong input\n"
          ]
        }
      ]
    },
    {
      "cell_type": "code",
      "source": [
        "#while\n",
        "\n",
        "i = 1\n",
        "j = 1             #initial\n",
        "while i <= 4:       #condition\n",
        "  print(\"Good\" , end=\"\")\n",
        "  while j <= 4:\n",
        "    j=1\n",
        "    print(\"day\")\n",
        "    j = j + 1\n",
        "  i = i+1          #increment/decrement"
      ],
      "metadata": {
        "id": "KcE7lY0d0suo"
      },
      "execution_count": null,
      "outputs": []
    },
    {
      "cell_type": "code",
      "source": [
        "#for loop\n",
        "\n",
        "x = \"SIVALAKSHMI\"\n",
        "for i in x:\n",
        "  print(i)"
      ],
      "metadata": {
        "id": "jcC73K6R_-_y"
      },
      "execution_count": null,
      "outputs": []
    },
    {
      "cell_type": "code",
      "source": [
        "#for loop\n",
        "for i in [2, 4, 2.4, 1]:\n",
        "  print(i)"
      ],
      "metadata": {
        "id": "JAO-0QIIBGWc"
      },
      "execution_count": null,
      "outputs": []
    },
    {
      "cell_type": "code",
      "source": [
        "#for loop\n",
        "\n",
        "for i in range(11, 21, 2):\n",
        "  print(i)"
      ],
      "metadata": {
        "id": "ENV8n6YaBPTg"
      },
      "execution_count": null,
      "outputs": []
    },
    {
      "cell_type": "code",
      "source": [
        "for i in range(21, 11, -1):\n",
        "  print(i)"
      ],
      "metadata": {
        "id": "F4H70qs8BfSO"
      },
      "execution_count": null,
      "outputs": []
    },
    {
      "cell_type": "code",
      "source": [
        "for i in range(1, 21):\n",
        "  if i % 5 != 0:\n",
        "    print (i)"
      ],
      "metadata": {
        "id": "sMp78l31Bupk"
      },
      "execution_count": null,
      "outputs": []
    },
    {
      "cell_type": "code",
      "source": [
        "#break continue pass\n",
        "\n",
        "av = 5\n",
        "x = int(input(\"How many cars you want?\"))\n",
        "\n",
        "i = 1\n",
        "while i<=x:\n",
        "  if i > av:\n",
        "    print(\"out of stock\")\n",
        "    break\n",
        "  print(\"cars\")\n",
        "  i += 1"
      ],
      "metadata": {
        "id": "Fe41387wC3Je"
      },
      "execution_count": null,
      "outputs": []
    },
    {
      "cell_type": "code",
      "source": [
        "for  i in range(1,101):\n",
        "  if i % 3 == 0 and i % 5 == 0:\n",
        "    continue\n",
        "  print(i)\n",
        "\n",
        "print(\"get lost\")"
      ],
      "metadata": {
        "id": "l_hdeRlsEa83"
      },
      "execution_count": null,
      "outputs": []
    },
    {
      "cell_type": "code",
      "source": [
        "for i in range(1, 101):\n",
        "  if i %2 != 0:\n",
        "    pass\n",
        "  else:\n",
        "    print(i)"
      ],
      "metadata": {
        "id": "dkh6pBZKFW5Q"
      },
      "execution_count": null,
      "outputs": []
    },
    {
      "cell_type": "code",
      "source": [
        "#pattern\n",
        "for i in range(4):\n",
        "  for j in range(4):\n",
        "    print(\"# \", end=\"\")\n",
        "\n",
        "  print()\n",
        "\n"
      ],
      "metadata": {
        "colab": {
          "base_uri": "https://localhost:8080/"
        },
        "id": "ntCIwakLVkzj",
        "outputId": "3990b4a5-010a-47da-ad61-eb59c34f6add"
      },
      "execution_count": null,
      "outputs": [
        {
          "output_type": "stream",
          "name": "stdout",
          "text": [
            "# # # # \n",
            "# # # # \n",
            "# # # # \n",
            "# # # # \n"
          ]
        }
      ]
    },
    {
      "cell_type": "code",
      "source": [
        "#i rows j columns\n",
        "\n",
        "for i in range(4):\n",
        "  for j in range(4-i):\n",
        "    print(\"# \", end=\"\")\n",
        "\n",
        "  print()"
      ],
      "metadata": {
        "colab": {
          "base_uri": "https://localhost:8080/"
        },
        "id": "oFcZ7kUCWxfz",
        "outputId": "cfa0c323-1938-497d-990f-fb90655fbe1c"
      },
      "execution_count": null,
      "outputs": [
        {
          "output_type": "stream",
          "name": "stdout",
          "text": [
            "# # # # \n",
            "# # # \n",
            "# # \n",
            "# \n"
          ]
        }
      ]
    },
    {
      "cell_type": "code",
      "source": [
        "#for and else together\n",
        "\n",
        "nums = [67, 89, 91, 101]\n",
        "\n",
        "for i in nums:\n",
        "\n",
        "  if i % 5 == 0:\n",
        "    print(i)\n",
        "    break\n",
        "else:\n",
        "  print(\"Not found\")"
      ],
      "metadata": {
        "colab": {
          "base_uri": "https://localhost:8080/"
        },
        "id": "cXHi0HduXsp9",
        "outputId": "31c0b257-1f92-4f16-8ed9-375609e61d56"
      },
      "execution_count": null,
      "outputs": [
        {
          "output_type": "stream",
          "name": "stdout",
          "text": [
            "Not found\n"
          ]
        }
      ]
    },
    {
      "cell_type": "code",
      "source": [
        "#prime numbers\n",
        "\n",
        "num = 10\n",
        "\n",
        "for i in range(2,num):\n",
        "  if num % i == 0:\n",
        "    print(\"Not prime\")\n",
        "    break\n",
        "else:\n",
        "  print(\"Prime\")"
      ],
      "metadata": {
        "colab": {
          "base_uri": "https://localhost:8080/"
        },
        "id": "I3NEkoELZf1_",
        "outputId": "d16fdc9e-728e-4eba-dc24-5044eab59632"
      },
      "execution_count": null,
      "outputs": [
        {
          "output_type": "stream",
          "name": "stdout",
          "text": [
            "Not prime\n"
          ]
        }
      ]
    },
    {
      "cell_type": "code",
      "source": [
        "#arrays - the datatypes are same in array\n",
        "\n",
        "# no fixed size\n",
        "\n",
        "from array import *\n",
        "\n",
        "vals = array('i', [6, 8, -5, 4])\n",
        "\n",
        "newArr = array(vals.typecode, (a for a in vals))\n",
        "\n",
        "#vals.reverse()\n",
        "\n",
        "#for i in range(len(vals)):\n",
        "for e in newArr:\n",
        "  print(e)\n",
        "\n"
      ],
      "metadata": {
        "colab": {
          "base_uri": "https://localhost:8080/"
        },
        "id": "X7tVJHnEaa-g",
        "outputId": "d661f7e8-97bd-449d-8426-113166f21821"
      },
      "execution_count": null,
      "outputs": [
        {
          "output_type": "stream",
          "name": "stdout",
          "text": [
            "6\n",
            "8\n",
            "-5\n",
            "4\n"
          ]
        }
      ]
    },
    {
      "cell_type": "code",
      "source": [
        "from array import *\n",
        "\n",
        "vals = array('i', [6, 3, 8, 2, 7])\n",
        "\n",
        "newArr = array(vals.typecode, (a*a for a in vals))\n",
        "\n",
        "i = 0\n",
        "\n",
        "while i<len(newArr):\n",
        "  print(newArr[i])\n",
        "  i += 1"
      ],
      "metadata": {
        "colab": {
          "base_uri": "https://localhost:8080/"
        },
        "id": "8fbMxD_-eaAA",
        "outputId": "39f4deac-ead8-4fc0-b7e4-19d82c0fd090"
      },
      "execution_count": null,
      "outputs": [
        {
          "output_type": "stream",
          "name": "stdout",
          "text": [
            "36\n",
            "9\n",
            "64\n",
            "4\n",
            "49\n"
          ]
        }
      ]
    },
    {
      "cell_type": "code",
      "source": [
        "#array values from user in python\n",
        "\n",
        "from array import *\n",
        "arr = array('i', []) # empty array\n",
        "n = int(input(\"enter a array length:\"))\n",
        "for i in range(n):\n",
        "  n = int(input(\"enter a array:\"))\n",
        "  arr.append(n)\n",
        "\n",
        "print(arr)\n",
        "\n",
        "val = int(input(\"Enter a element to search:\"))\n",
        "\n",
        "k=0\n",
        "for e in arr:\n",
        "  if e == val:\n",
        "    print(k)\n",
        "    break\n",
        "  k+=1\n",
        "\n",
        "print(arr.index(val))\n",
        "\n",
        "\n"
      ],
      "metadata": {
        "id": "tKsyRxeffhf-"
      },
      "execution_count": null,
      "outputs": []
    },
    {
      "cell_type": "code",
      "source": [
        "from numpy import * #array(), linespace(), logspace(), arange(), zeros(), ones()\n",
        "\n",
        "arr = array([1, 2, 3, 4, 5, 6.5], int)\n",
        "\n",
        "print(arr.dtype)\n",
        "print(arr)"
      ],
      "metadata": {
        "colab": {
          "base_uri": "https://localhost:8080/"
        },
        "id": "C8iR_4QPCEO6",
        "outputId": "2cbe2243-939e-41ce-fc01-54ee18a0e522"
      },
      "execution_count": null,
      "outputs": [
        {
          "output_type": "stream",
          "name": "stdout",
          "text": [
            "int64\n",
            "[1 2 3 4 5 6]\n"
          ]
        }
      ]
    },
    {
      "cell_type": "code",
      "source": [
        "from numpy import *\n",
        "\n",
        "arr = zeros(6, int)\n",
        "\n",
        "print(arr)"
      ],
      "metadata": {
        "colab": {
          "base_uri": "https://localhost:8080/"
        },
        "id": "iTZ0VAjBC6fp",
        "outputId": "f53ca349-61a5-444b-d4a2-d28f0b281110"
      },
      "execution_count": null,
      "outputs": [
        {
          "output_type": "stream",
          "name": "stdout",
          "text": [
            "[0 0 0 0 0 0]\n"
          ]
        }
      ]
    },
    {
      "cell_type": "code",
      "source": [
        "#copying array\n",
        "\n",
        "from numpy import *\n",
        "\n",
        "arr = array([1,2,3,4,5])\n",
        "\n",
        "arr1 = array([11,72,33,4,5])\n",
        "\n",
        "\n",
        "arr2 = arr + arr1\n",
        "\n",
        "print(concatenate((arr,arr1)))"
      ],
      "metadata": {
        "colab": {
          "base_uri": "https://localhost:8080/"
        },
        "id": "9NW1rARLEQRW",
        "outputId": "a6a7366b-b4f5-4a2f-bcd5-9d8c0ad8d346"
      },
      "execution_count": null,
      "outputs": [
        {
          "output_type": "stream",
          "name": "stdout",
          "text": [
            "[ 1  2  3  4  5 11 72 33  4  5]\n"
          ]
        }
      ]
    },
    {
      "cell_type": "code",
      "source": [
        "from numpy import *\n",
        "\n",
        "arr1 = array([1,2,3,4,5])\n",
        "\n",
        "arr2 = array([11,72,33,4,5])\n",
        "\n",
        "arr2 = arr1.copy() #deep copy\n",
        "\n",
        "arr1[1] = 7 #shallow copy\n",
        "\n",
        "print(arr1)\n",
        "print(arr2)"
      ],
      "metadata": {
        "colab": {
          "base_uri": "https://localhost:8080/"
        },
        "id": "rIvEvLvaGJFb",
        "outputId": "a0bd6026-6327-4735-f6c6-276bf717b7dd"
      },
      "execution_count": null,
      "outputs": [
        {
          "output_type": "stream",
          "name": "stdout",
          "text": [
            "[1 7 3 4 5]\n",
            "[1 7 3 4 5]\n"
          ]
        }
      ]
    },
    {
      "cell_type": "code",
      "source": [
        "#working with matrix\n",
        "\n",
        "from numpy import *\n",
        "arr1 = array([[1,2,3,4,5,6],[4,5,6,7,8,9]])\n",
        "\n",
        "arr2 = arr1.flatten()\n",
        "\n",
        "arr3 = arr2.reshape(2,2,3)\n",
        "print(arr3)\n",
        "\n"
      ],
      "metadata": {
        "colab": {
          "base_uri": "https://localhost:8080/"
        },
        "id": "2Xk0CbSrc-d9",
        "outputId": "a7605514-b2f8-420e-9708-777a7af8f5ce"
      },
      "execution_count": null,
      "outputs": [
        {
          "output_type": "stream",
          "name": "stdout",
          "text": [
            "[[[1 2 3]\n",
            "  [4 5 6]]\n",
            "\n",
            " [[4 5 6]\n",
            "  [7 8 9]]]\n"
          ]
        }
      ]
    },
    {
      "cell_type": "code",
      "source": [
        "from numpy import *\n",
        "\n",
        "\n",
        "m1 = matrix('1,2,3;4,5,6,;7,8,9')\n",
        "m2 = matrix('8,2,3;3,6,6,;7,8,5')\n",
        "\n",
        "m3 = m1 * m2\n",
        "\n",
        "# print(m3)\n",
        "# print(diagonal(m))\n",
        "# print(m.max())"
      ],
      "metadata": {
        "colab": {
          "base_uri": "https://localhost:8080/"
        },
        "id": "BAHPY_6kfF-Z",
        "outputId": "418eddfa-ab7e-4d1d-88f4-9b37476e91fa"
      },
      "execution_count": null,
      "outputs": [
        {
          "output_type": "stream",
          "name": "stdout",
          "text": [
            "[[ 35  38  30]\n",
            " [ 89  86  72]\n",
            " [143 134 114]]\n",
            "[1 5 9]\n",
            "9\n"
          ]
        }
      ]
    },
    {
      "cell_type": "code",
      "source": [
        "# Functions in python\n",
        "\n",
        "def siva():\n",
        "  print(\"Good\")\n",
        "  print(\"Day\")\n",
        "\n",
        "siva()\n",
        "\n",
        "siva()\n",
        "\n",
        "\n",
        "\n"
      ],
      "metadata": {
        "colab": {
          "base_uri": "https://localhost:8080/"
        },
        "id": "w6mNYZcChtoQ",
        "outputId": "6f1ae679-cbcf-45b8-d5b8-88ba38ce598d"
      },
      "execution_count": null,
      "outputs": [
        {
          "output_type": "stream",
          "name": "stdout",
          "text": [
            "Good\n",
            "Day\n",
            "Good\n",
            "Day\n"
          ]
        }
      ]
    },
    {
      "cell_type": "code",
      "source": [
        "def add_sub(x, y):\n",
        "  c = x + y\n",
        "  d = x - y\n",
        "  return c,d\n",
        "\n",
        "result1, result2 = add_sub(7, 5)\n",
        "\n",
        "print(result1, result2)"
      ],
      "metadata": {
        "colab": {
          "base_uri": "https://localhost:8080/"
        },
        "id": "cmoGjK4Oi5AE",
        "outputId": "dbac4ec0-f0fe-4996-d4df-a78a05974e28"
      },
      "execution_count": null,
      "outputs": [
        {
          "output_type": "stream",
          "name": "stdout",
          "text": [
            "12 2\n"
          ]
        }
      ]
    },
    {
      "cell_type": "code",
      "source": [
        "#function arguments\n",
        "\n",
        "def append(x):\n",
        "  x = 8\n",
        "  print(id(x))\n",
        "  print(\"x\",x)\n",
        "\n",
        "a = 10\n",
        "print(id(a))\n",
        "append(a)\n",
        "print(\"a\",a)\n"
      ],
      "metadata": {
        "colab": {
          "base_uri": "https://localhost:8080/"
        },
        "id": "jGhifP0dkgR_",
        "outputId": "d5dcb775-d2e4-4a3d-9e12-d9648584a33c"
      },
      "execution_count": null,
      "outputs": [
        {
          "output_type": "stream",
          "name": "stdout",
          "text": [
            "135615127044624\n",
            "135615127044560\n",
            "x 8\n",
            "a 10\n"
          ]
        }
      ]
    },
    {
      "cell_type": "code",
      "source": [
        "#types of arguments\n",
        "\n",
        "def add_sum(x, y=12): #formal argument\n",
        "  a = x + y\n",
        "  b = x - y\n",
        "  print(a)\n",
        "  print(b)\n",
        "\n",
        "add_sum(5, 6) #actual  (position, keyword, varible length,default)"
      ],
      "metadata": {
        "colab": {
          "base_uri": "https://localhost:8080/"
        },
        "id": "O-IVEHX7oGFZ",
        "outputId": "f2641b4c-d8d0-4030-ba2d-e77b25c23625"
      },
      "execution_count": null,
      "outputs": [
        {
          "output_type": "stream",
          "name": "stdout",
          "text": [
            "11\n",
            "-1\n"
          ]
        }
      ]
    },
    {
      "cell_type": "code",
      "source": [
        "#keyworded varible length arguments **kwargs\n",
        "\n",
        "def person(name, **data):\n",
        "\n",
        "  print(name)\n",
        "\n",
        "  for i, j in data.items():\n",
        "    print(i,j)\n",
        "  #print(data)\n",
        "\n",
        "person('siva', age=21, city='tvl', mob=6874327567)"
      ],
      "metadata": {
        "colab": {
          "base_uri": "https://localhost:8080/"
        },
        "id": "yIY2Ha0SqiAd",
        "outputId": "ea62ce16-1b55-47c0-8fb5-67cf5c4b8b1c"
      },
      "execution_count": null,
      "outputs": [
        {
          "output_type": "stream",
          "name": "stdout",
          "text": [
            "siva\n",
            "age 21\n",
            "city tvl\n",
            "mob 6874327567\n"
          ]
        }
      ]
    },
    {
      "cell_type": "code",
      "source": [
        "#global keyword\n",
        "\n",
        "a = 4 #global\n",
        "print(id(a))\n",
        "\n",
        "def some():\n",
        "  x = globals()['a']\n",
        "  a = 3 #local\n",
        "  print(id(a))\n",
        "\n",
        "  print(a)\n",
        "  globals()['a'] = 15 #update\n",
        "some()\n",
        "\n",
        "\n",
        "print(a)\n"
      ],
      "metadata": {
        "colab": {
          "base_uri": "https://localhost:8080/"
        },
        "id": "SKV_2bcAxObg",
        "outputId": "dea7541d-75a5-4862-e697-869dbe0844a2"
      },
      "execution_count": null,
      "outputs": [
        {
          "output_type": "stream",
          "name": "stdout",
          "text": [
            "135615127044432\n",
            "135615127044400\n",
            "3\n",
            "15\n"
          ]
        }
      ]
    },
    {
      "cell_type": "code",
      "source": [
        "#pass list to a function\n",
        "\n",
        "def count(lst):\n",
        "  even = 0\n",
        "  odd = 0\n",
        "  for i in lst:\n",
        "    if i % 2 == 0:\n",
        "      even +=1\n",
        "    else:\n",
        "      odd+= 1\n",
        "  return even, odd\n",
        "\n",
        "lst = [23,21,22,23,2,4,25]\n",
        "even, odd = count(lst)\n",
        "\n",
        "print(\"Even : {} and Odd : {}\".format(even,odd))\n",
        "\n",
        "\n"
      ],
      "metadata": {
        "colab": {
          "base_uri": "https://localhost:8080/"
        },
        "id": "pr7gaEFLzI71",
        "outputId": "c0633057-8d60-4f1e-82f4-aacd363ef47b"
      },
      "execution_count": null,
      "outputs": [
        {
          "output_type": "stream",
          "name": "stdout",
          "text": [
            "Even : 3 and Odd : 4\n"
          ]
        }
      ]
    },
    {
      "cell_type": "code",
      "source": [
        "#Fibonacci series\n",
        "\n",
        "def fib(x):\n",
        "\n",
        "  a = 0\n",
        "  b = 1\n",
        "  if x == 1:\n",
        "    return 1\n",
        "  else:\n",
        "    print(a)\n",
        "    print(b)\n",
        "\n",
        "    for i in range(2, x):\n",
        "\n",
        "      c = a+b\n",
        "      a = b\n",
        "      b = c\n",
        "\n",
        "      print(c)\n",
        "\n",
        "\n",
        "fib(5)"
      ],
      "metadata": {
        "id": "zcaMjSYX1uPG"
      },
      "execution_count": null,
      "outputs": []
    },
    {
      "cell_type": "code",
      "source": [
        "#factorial\n",
        "def fact(x):\n",
        "\n",
        "  f = 1\n",
        "\n",
        "  for i in range(1, x+1):\n",
        "    f = f * i\n",
        "  return f\n",
        "\n",
        "x = 5\n",
        "result = fact(x)\n",
        "print(result)\n",
        "\n"
      ],
      "metadata": {
        "id": "Jqq0mNpQ3pae"
      },
      "execution_count": null,
      "outputs": []
    },
    {
      "cell_type": "code",
      "source": [
        "#recursion\n",
        "import sys\n",
        "\n",
        "sys.setrecursionlimit(100)\n",
        "print(sys.getrecursionlimit())\n",
        "\n",
        "i = 0\n",
        "def hello():\n",
        "  global i\n",
        "  i += 1\n",
        "  print(\"Hello\", i)\n",
        "  hello()\n",
        "\n",
        "hello()"
      ],
      "metadata": {
        "id": "9b0hnbY140_9"
      },
      "execution_count": null,
      "outputs": []
    },
    {
      "cell_type": "code",
      "source": [
        "#factorial recursion\n",
        "def fact(n):\n",
        "\n",
        "  if(n == 0):\n",
        "    return 1\n",
        "\n",
        "  return n*fact(n-1)\n",
        "\n",
        "\n",
        "\n",
        "result = fact(3)\n",
        "\n",
        "print(result)\n",
        "\n"
      ],
      "metadata": {
        "id": "8W737RSz6XuC",
        "colab": {
          "base_uri": "https://localhost:8080/"
        },
        "outputId": "dbf37282-a089-4132-f655-59397abcd584"
      },
      "execution_count": null,
      "outputs": [
        {
          "output_type": "stream",
          "name": "stdout",
          "text": [
            "6\n"
          ]
        }
      ]
    },
    {
      "cell_type": "code",
      "source": [
        "#anonymous functions\n",
        "\n",
        "f = lambda a,b : a-b\n",
        "\n",
        "result = f(5,6)\n",
        "\n",
        "print(result)"
      ],
      "metadata": {
        "colab": {
          "base_uri": "https://localhost:8080/"
        },
        "id": "AWGF5BqmNlDp",
        "outputId": "c0534eb4-82e6-462e-8a71-5f1b7060d0cc"
      },
      "execution_count": null,
      "outputs": [
        {
          "output_type": "stream",
          "name": "stdout",
          "text": [
            "-1\n"
          ]
        }
      ]
    },
    {
      "cell_type": "code",
      "source": [
        "\n",
        "#filter map reduce\n",
        "\n",
        "#filter, map, reduce\n",
        "\n",
        "from functools import reduce\n",
        "num = [3,5,2,5,7,8,4,9]\n",
        "\n",
        "evens = list(filter(lambda n : n % 2 == 0, num))         #filter from the list we give\n",
        "\n",
        "doubles = list(map(lambda n : n + 2,evens))\n",
        "\n",
        "sum = reduce(lambda a,b : a + b,doubles)\n",
        "\n",
        "print(sum)"
      ],
      "metadata": {
        "id": "lfGYpqtPOmdR"
      },
      "execution_count": null,
      "outputs": []
    },
    {
      "cell_type": "code",
      "source": [
        "#decorators\n",
        "\n",
        "def div(a, b):\n",
        "  print(a/b)\n",
        "\n",
        "def smart(func):\n",
        "\n",
        "  def inner(a,b):\n",
        "    if a < b:\n",
        "      a,b = b,a\n",
        "    return func(a,b)\n",
        "  return inner\n",
        "\n",
        "div = smart(div)\n",
        "div(2,4)"
      ],
      "metadata": {
        "colab": {
          "base_uri": "https://localhost:8080/"
        },
        "id": "iCRRh6T1Rz_j",
        "outputId": "b78fc37e-d158-442a-9963-b85b8faff83f"
      },
      "execution_count": null,
      "outputs": [
        {
          "output_type": "stream",
          "name": "stdout",
          "text": [
            "2.0\n"
          ]
        }
      ]
    },
    {
      "cell_type": "code",
      "source": [
        "#modules\n",
        "#import calc\n",
        "\n",
        "def add(a, b):\n",
        "  return a + b\n",
        "\n",
        "def sub(a, b):\n",
        "  return a - b\n",
        "\n",
        "def mul(a, b):\n",
        "  return a * b\n",
        "\n",
        "def div(a, b):\n",
        "  return a / b\n"
      ],
      "metadata": {
        "id": "6wkoWygI9Om6"
      },
      "execution_count": null,
      "outputs": []
    },
    {
      "cell_type": "code",
      "source": [
        "#from calc import *\n",
        "\n",
        "a = 7\n",
        "b = 6\n",
        "\n",
        "c = add(a, b)\n",
        "\n",
        "print(c)"
      ],
      "metadata": {
        "id": "zjMdJZVM-1mr"
      },
      "execution_count": null,
      "outputs": []
    },
    {
      "cell_type": "code",
      "source": [
        "#special varible name\n",
        "\n",
        "print(\"hello\",__name__)\n"
      ],
      "metadata": {
        "colab": {
          "base_uri": "https://localhost:8080/"
        },
        "id": "Nmbh7zvE_O2A",
        "outputId": "107359de-7518-4fa3-fd51-f6845002d15f"
      },
      "execution_count": null,
      "outputs": [
        {
          "output_type": "stream",
          "name": "stdout",
          "text": [
            "hello __main__\n"
          ]
        }
      ]
    },
    {
      "cell_type": "markdown",
      "source": [
        "#oops\n",
        "\n",
        "Functional Programming\n",
        "\n",
        "Procedure programming\n",
        "\n",
        "Object oriented programming (attributes, behaviour) - Object, Encapsulation, Abstraction, Polymorphism, class\n",
        "\n",
        "class - design (blueprint)\n",
        "object - instance\n",
        "\n",
        "\n"
      ],
      "metadata": {
        "id": "kl7Eh0f__bad"
      }
    },
    {
      "cell_type": "code",
      "source": [
        "#class and object\n",
        "\n",
        "class Hello:\n",
        "  #atrributes - datatypes\n",
        "  #behaviours - methods\n",
        "\n",
        "  def config(self): #self - object which passing\n",
        "    print(\"i6, 32gb\")\n",
        "\n",
        "\n",
        "com1 = Hello()\n",
        "com2 = Hello()\n",
        "Hello.config(com1)\n",
        "Hello.config(com2)\n",
        "\n",
        "com1.config()\n",
        "com2.config()\n"
      ],
      "metadata": {
        "colab": {
          "base_uri": "https://localhost:8080/"
        },
        "id": "Zpl7XllSBNYz",
        "outputId": "555dbe5c-fa7b-4020-cb69-0cfdf0d82371"
      },
      "execution_count": null,
      "outputs": [
        {
          "output_type": "stream",
          "name": "stdout",
          "text": [
            "i6, 32gb\n",
            "i6, 32gb\n"
          ]
        }
      ]
    },
    {
      "cell_type": "code",
      "source": [
        "#__init__\n",
        "\n",
        "class Hello:\n",
        "  #atrributes - datatypes\n",
        "  #behaviours - methods\n",
        "  def __init__(self,cpu,ram): #called automatically\n",
        "    self.cpu = cpu\n",
        "    self.ram = ram\n",
        "\n",
        "\n",
        "  def config(self): #self - object which passing\n",
        "    print(\"Congig\", self.cpu, self.ram)\n",
        "\n",
        "\n",
        "com1 = Hello('15', '16gp') #com1 default\n",
        "com2 = Hello('amd', '5')\n",
        "\n",
        "\n",
        "com1.config()\n",
        "com2.config()\n"
      ],
      "metadata": {
        "id": "HC7dQkR7D8lu"
      },
      "execution_count": null,
      "outputs": []
    },
    {
      "cell_type": "code",
      "source": [
        "from typing_extensions import Self\n",
        "#constrator, self and comparing objects\n",
        "\n",
        "class Computer:\n",
        "  def __init__(self):\n",
        "    self.name = \"Siva\"\n",
        "    self.age = 21\n",
        "\n",
        "  # def update(self):\n",
        "  #   self.age = 56\n",
        "\n",
        "  def compare(self, other):\n",
        "    if self.age == other.age:\n",
        "      return True\n",
        "    else:\n",
        "      return False\n",
        "\n",
        "\n",
        "c1 = Computer() #constractor\n",
        "c2 = Computer()\n",
        "\n",
        "c1.name = 'siva'\n",
        "c1.age = 13\n",
        "c2.name = 'siva2'\n",
        "c2.age = 23\n",
        "\n",
        "if c1.compare(c2):\n",
        "  print(\"They are same\")\n",
        "else:\n",
        "  print(\"different\")\n",
        "\n",
        "\n",
        "\n",
        "\n",
        "# print(c1.name)\n",
        "# print(c2.name)"
      ],
      "metadata": {
        "colab": {
          "base_uri": "https://localhost:8080/"
        },
        "id": "HasNCPRjF7cc",
        "outputId": "edc1695e-4379-4f60-8174-532d418ee9b9"
      },
      "execution_count": null,
      "outputs": [
        {
          "output_type": "stream",
          "name": "stdout",
          "text": [
            "different\n"
          ]
        }
      ]
    },
    {
      "cell_type": "code",
      "source": [
        "#types of variables\n",
        "\n",
        "#Instance variable, static variable\n",
        "\n",
        "class Car:\n",
        "  def __init__(self):\n",
        "    self.name = 'bmw'\n",
        "    self.model = 10\n",
        "\n",
        "c1 = Car()\n",
        "c2 = Car()"
      ],
      "metadata": {
        "id": "uyQehHgeJlx1"
      },
      "execution_count": null,
      "outputs": []
    },
    {
      "cell_type": "code",
      "source": [
        "#Types of methods\n",
        "\n",
        "#instance, class, static\n",
        "\n",
        "class Student:\n",
        "\n",
        "  school = \"Hello\"\n",
        "\n",
        "  def __init__(self,m1,m2,m3):\n",
        "    self.m1 = m1\n",
        "    self.m2 = m2\n",
        "    self.m3 = m3\n",
        "\n",
        "  def avg(self):\n",
        "    return (self.m1 + self.m2 + self.m3) / 3\n",
        "\n",
        "  def get_m1(self):\n",
        "    return self.m1\n",
        "\n",
        "  @classmethod\n",
        "  def info(cls):\n",
        "    print(cls.school)\n",
        "\n",
        "  @staticmethod\n",
        "  def info():\n",
        "    print(\"fhrg87rguiberuyfywewgf8urfij\")\n",
        "\n",
        "\n",
        "#instance - accessor, mutator\n",
        "\n",
        "s1 = Student(100,99,97)\n",
        "s2 = Student(67,89,99)\n",
        "\n",
        "print(s1.avg())\n",
        "print(Student.info())\n"
      ],
      "metadata": {
        "colab": {
          "base_uri": "https://localhost:8080/"
        },
        "id": "eT2NJDyLV27d",
        "outputId": "94767167-b827-448b-ff37-1af959e3eb9f"
      },
      "execution_count": null,
      "outputs": [
        {
          "output_type": "stream",
          "name": "stdout",
          "text": [
            "98.66666666666667\n",
            "fhrg87rguiberuyfywewgf8urfij\n",
            "None\n"
          ]
        }
      ]
    },
    {
      "cell_type": "code",
      "source": [
        "#inner class\n",
        "\n",
        "class Student:\n",
        "\n",
        "  def __init__(self, name, rollno):\n",
        "    self.name = name\n",
        "    self.rollno = rollno\n",
        "    self.lap = self.Laptop()\n",
        "\n",
        "  def show(self):\n",
        "    print(self.name, self.rollno)\n",
        "    self.lap.show()\n",
        "\n",
        "  class Laptop:\n",
        "\n",
        "    def __init__(self):\n",
        "      self.brand = 'hp'\n",
        "\n",
        "    def show(self):\n",
        "      print(self.brand)\n",
        "\n",
        "\n",
        "\n",
        "\n",
        "s1 = Student('siva', 2)\n",
        "\n",
        "s1.show()\n",
        "\n",
        "#lap = Student.Laptop()\n",
        "\n"
      ],
      "metadata": {
        "colab": {
          "base_uri": "https://localhost:8080/"
        },
        "id": "fxz7Rzn2aeyK",
        "outputId": "17a9ebf4-db51-4690-dc07-d21fdc68950e"
      },
      "execution_count": null,
      "outputs": [
        {
          "output_type": "stream",
          "name": "stdout",
          "text": [
            "siva 2\n",
            "hp\n"
          ]
        }
      ]
    },
    {
      "cell_type": "code",
      "source": [
        "#inheritance\n",
        "\n",
        "class A:\n",
        "  def features1(self):\n",
        "    print(\"feature1\")\n",
        "\n",
        "  def features2(self):\n",
        "    print(\"feature2\")\n",
        "\n",
        "class B: #child class\n",
        "  def features3(self):\n",
        "    print(\"3\")\n",
        "\n",
        "  def features4(self):\n",
        "    print(\"4\")\n",
        "\n",
        "class C(B):\n",
        "  def features5(self):\n",
        "    print(\"5\")\n",
        "\n",
        "\n",
        "a1 = A()\n",
        "a2 = A()\n",
        "\n",
        "b1 = B()\n",
        "\n",
        "\n",
        "a1.features1()\n",
        "a2.features2()"
      ],
      "metadata": {
        "colab": {
          "base_uri": "https://localhost:8080/"
        },
        "id": "LVs6zFdYcl0w",
        "outputId": "b3ae3be5-f6ff-41a7-b1bb-4405784b56b9"
      },
      "execution_count": null,
      "outputs": [
        {
          "output_type": "stream",
          "name": "stdout",
          "text": [
            "feature1\n",
            "feature2\n"
          ]
        }
      ]
    },
    {
      "cell_type": "code",
      "source": [
        "#duck typing - polymorphism\n",
        "\n",
        "class Google:\n",
        "  def execute(self):\n",
        "    print(\"summa\")\n",
        "\n",
        "\n",
        "class Laptop:\n",
        "\n",
        "\n",
        "  def code(self,ide):\n",
        "    ide.execute()\n",
        "\n",
        "ide = Google()\n",
        "\n",
        "lap1 = Laptop()\n",
        "lap1.code(ide)\n",
        "\n"
      ],
      "metadata": {
        "colab": {
          "base_uri": "https://localhost:8080/"
        },
        "id": "WcUjFRM_2lVz",
        "outputId": "36b00754-4522-4ee8-ffc2-b1ad96007cbd"
      },
      "execution_count": null,
      "outputs": [
        {
          "output_type": "stream",
          "name": "stdout",
          "text": [
            "summa\n"
          ]
        }
      ]
    },
    {
      "cell_type": "code",
      "source": [
        "#operator overloading\n",
        "\n",
        "#systentic sugar (int + string) error\n",
        "\n",
        "a = 7\n",
        "\n",
        "b= 6\n",
        "\n",
        "print(a + b)\n",
        "\n",
        "print(int.__sub__(a,b))\n",
        "\n"
      ],
      "metadata": {
        "colab": {
          "base_uri": "https://localhost:8080/"
        },
        "id": "zKD6hDQh72Mh",
        "outputId": "27ff89f6-4012-4c97-c076-a1a13f4a9298"
      },
      "execution_count": null,
      "outputs": [
        {
          "output_type": "stream",
          "name": "stdout",
          "text": [
            "13\n",
            "1\n"
          ]
        }
      ]
    },
    {
      "cell_type": "code",
      "source": [
        "class Student:\n",
        "\n",
        "  def __init__(self,m1,m2):\n",
        "    self.m1 = m1\n",
        "    self.m2 = m2\n",
        "\n",
        "  def __add__(self, other):\n",
        "    m1 = self.m1 + other.m1\n",
        "    m2 = self.m2 + other.m2\n",
        "    s3 = Student(m1, m2)\n",
        "\n",
        "    return s3\n",
        "\n",
        "s1 = Student(78, 89)\n",
        "s2 = Student(89, 90)\n",
        "\n",
        "s3 = s1 + s2\n",
        "\n",
        "print(s3.m1)"
      ],
      "metadata": {
        "colab": {
          "base_uri": "https://localhost:8080/"
        },
        "id": "AeiUKQ4z82Hl",
        "outputId": "3873d750-4555-44c1-cb1b-08313485bf30"
      },
      "execution_count": null,
      "outputs": [
        {
          "output_type": "stream",
          "name": "stdout",
          "text": [
            "167\n"
          ]
        }
      ]
    },
    {
      "cell_type": "code",
      "source": [
        "#generator\n",
        "\n",
        "def topten():\n",
        "  n = 1\n",
        "\n",
        "  while n <= 10:\n",
        "    sq = n*n\n",
        "    yield sq\n",
        "    n+=1\n",
        "\n",
        "\n",
        "values = topten()\n",
        "\n",
        "for i in values:\n",
        "  print(i)"
      ],
      "metadata": {
        "id": "IbD2shs8LXFl"
      },
      "execution_count": null,
      "outputs": []
    },
    {
      "cell_type": "code",
      "source": [
        "#error handling compile, logical, runtime\n",
        "\n",
        "a = 5\n",
        "b = 2\n",
        "\n",
        "k = int(input(\"number:\"))\n",
        "print(k)\n",
        "try:\n",
        "  print(a / b)\n",
        "\n",
        "\n",
        "except Exception as e:\n",
        "  print(e)\n",
        "\n",
        "finally:\n",
        "  print(\"Resource closed\")\n",
        "\n",
        "print('bye')"
      ],
      "metadata": {
        "colab": {
          "base_uri": "https://localhost:8080/"
        },
        "id": "XysgO2c7MWQp",
        "outputId": "3b14ea98-befd-4d43-fa05-677f21c5dcb8"
      },
      "execution_count": null,
      "outputs": [
        {
          "output_type": "stream",
          "name": "stdout",
          "text": [
            "number:7\n",
            "7\n",
            "2.5\n",
            "Resource closed\n",
            "bye\n"
          ]
        }
      ]
    },
    {
      "cell_type": "code",
      "source": [
        "#multithreading\n",
        "\n",
        "from time import sleep\n",
        "from threading import *\n",
        "\n",
        "class Hello(Thread):\n",
        "  def run(self):\n",
        "    for i in range(5):\n",
        "      print(\"hello\")\n",
        "      sleep(1)\n",
        "\n",
        "class Hi(Thread):\n",
        "  def run(self):\n",
        "    for i in range(5):\n",
        "      print(\"hi\")\n",
        "      sleep(1)\n",
        "\n",
        "t1 = Hello()\n",
        "t2 = Hi()\n",
        "\n",
        "t1.start()\n",
        "sleep(0.2)\n",
        "t2.start()\n",
        "\n",
        "t1.join()\n",
        "t2.join()\n",
        "\n",
        "print('bye')"
      ],
      "metadata": {
        "colab": {
          "base_uri": "https://localhost:8080/"
        },
        "id": "ktvnIBakUsuE",
        "outputId": "3b686af2-1e85-422d-91d4-ac7dd5be854f"
      },
      "execution_count": null,
      "outputs": [
        {
          "output_type": "stream",
          "name": "stdout",
          "text": [
            "hi\n",
            "hello\n",
            "hello\n",
            "hi\n",
            "hi\n",
            "hello\n",
            "hi\n",
            "hello\n",
            "hello\n",
            "hi\n",
            "hi\n",
            "hello\n",
            "hi\n",
            "hello\n",
            "hello\n",
            "hi\n",
            "hello\n",
            "hi\n",
            "hi\n",
            "hello\n",
            "hello\n",
            "hi\n",
            "hello\n",
            "hi\n",
            "hihello\n",
            "\n",
            "hello\n",
            "hi\n",
            "hello\n",
            "hi\n",
            "hihello\n",
            "\n",
            "bye\n"
          ]
        }
      ]
    },
    {
      "cell_type": "code",
      "source": [
        "#linear search\n",
        "\n",
        "\n",
        "pos = -1\n",
        "def search(list,n):\n",
        "\n",
        "  i = 0\n",
        "  while i < len(list):\n",
        "    if list[i] == n:\n",
        "      globals() ['pos'] = i\n",
        "      return True\n",
        "    i = i + 1\n",
        "  return False\n",
        "\n",
        "list = [8,5,4,9,1,4]\n",
        "\n",
        "n = 5\n",
        "\n",
        "if search(list, n):\n",
        "  print('found',pos+1)\n",
        "\n",
        "else:\n",
        "  print(\"Not found\")\n",
        "\n"
      ],
      "metadata": {
        "id": "q2tMCZLLYvzX",
        "colab": {
          "base_uri": "https://localhost:8080/"
        },
        "outputId": "05c41fbf-ebde-444b-c49a-b9961acdb5fa"
      },
      "execution_count": null,
      "outputs": [
        {
          "output_type": "stream",
          "name": "stdout",
          "text": [
            "found 2\n"
          ]
        }
      ]
    },
    {
      "cell_type": "code",
      "source": [
        "#binary search\n",
        "\n",
        "#mid index = (lower + upper) / 2\n",
        "#change the value of lower bound because of the mid is smaller than the target\n",
        "# for upper bound vice versa\n",
        "pos = -1\n",
        "def search(list,n):\n",
        "  l = 0\n",
        "  u = len(list) - 1\n",
        "  while l <= u:\n",
        "    mid = (l + u) // 2\n",
        "\n",
        "    if list[mid] == n:\n",
        "      globals()['pos'] = mid\n",
        "      return True\n",
        "    else:\n",
        "      if list[mid] < n:\n",
        "        l = mid + 1\n",
        "      else:\n",
        "        u = mid - 1\n",
        "\n",
        "  return False\n",
        "\n",
        "\n",
        "list = [34,35,36,38,39,40,42]\n",
        "\n",
        "n = 35\n",
        "\n",
        "if search(list, n):\n",
        "  print(\"Found\",pos+1)\n",
        "\n",
        "else:\n",
        "  print(\"Not found\")\n",
        "\n"
      ],
      "metadata": {
        "id": "Fo3vNLW0ijRE",
        "colab": {
          "base_uri": "https://localhost:8080/"
        },
        "outputId": "6dab672c-0d97-4e1e-f629-1bdfe4ddb006"
      },
      "execution_count": null,
      "outputs": [
        {
          "output_type": "stream",
          "name": "stdout",
          "text": [
            "Found 2\n"
          ]
        }
      ]
    },
    {
      "cell_type": "code",
      "source": [
        "#bubble sort\n",
        "\n",
        "def sort(nums):\n",
        "  for i in range(len(nums)-1,0,-1):\n",
        "    for j in range(i):\n",
        "      if nums[j] >nums[j+1]:\n",
        "        temp = nums[j]\n",
        "        nums[j] = nums[j + 1]\n",
        "        nums[j + 1] = temp\n",
        "\n",
        "\n",
        "\n",
        "nums = [5 ,3,8,6,7,2]\n",
        "sort(nums)\n",
        "\n",
        "print(nums)"
      ],
      "metadata": {
        "colab": {
          "base_uri": "https://localhost:8080/"
        },
        "id": "agqtrSTEzn23",
        "outputId": "d2f29e85-38b0-4af8-ceb2-809480353350"
      },
      "execution_count": null,
      "outputs": [
        {
          "output_type": "stream",
          "name": "stdout",
          "text": [
            "[2, 3, 5, 6, 7, 8]\n"
          ]
        }
      ]
    },
    {
      "cell_type": "code",
      "source": [
        "#selection sort\n",
        "\n",
        "def sort(nums):\n",
        "\n",
        "  for i in range(5):\n",
        "    minpos = i\n",
        "    for j in range(i, 6):\n",
        "      if nums[j] < nums[i]:\n",
        "        minpos = j\n",
        "\n",
        "    temp = nums[i]\n",
        "    nums[i] = nums[minpos]\n",
        "    nums[minpos] = temp\n",
        "\n",
        "\n",
        "nums = [5 ,3,8,6,7,2]\n",
        "sort(nums)\n",
        "\n",
        "print(nums)"
      ],
      "metadata": {
        "colab": {
          "base_uri": "https://localhost:8080/"
        },
        "id": "PxpcAlkjiWbf",
        "outputId": "127ac6c5-8164-4a14-dc79-fa72449bde8d"
      },
      "execution_count": null,
      "outputs": [
        {
          "output_type": "stream",
          "name": "stdout",
          "text": [
            "[2, 3, 5, 6, 7, 8]\n"
          ]
        }
      ]
    },
    {
      "cell_type": "code",
      "source": [
        "# car = {'brand': 'Audi', 'model': 'q7'}\n",
        "# car['model'] = 'q8'\n",
        "# len(car)\n",
        "\n",
        "#No two items for same key, lastest one will be available\n",
        "#dictionary are mutable\n",
        "\n",
        "#length of the dictionary, key value pair\n",
        "\n",
        "#dict() constructor\n",
        "\n",
        "car = dict(brand = 'audi', model = 'q6')\n",
        "car\n",
        "\n",
        "\n"
      ],
      "metadata": {
        "colab": {
          "base_uri": "https://localhost:8080/"
        },
        "id": "VYeokV_FnVJt",
        "outputId": "e7def401-3d08-4392-a8d7-74f4df511a9e"
      },
      "execution_count": null,
      "outputs": [
        {
          "output_type": "execute_result",
          "data": {
            "text/plain": [
              "{'brand': 'audi', 'model': 'q6'}"
            ]
          },
          "metadata": {},
          "execution_count": 5
        }
      ]
    },
    {
      "cell_type": "code",
      "source": [
        "#Accessing Dictionary items\n",
        "\n",
        "#Access values using key names\n",
        "\n",
        "car = {'brand': 'Audi', 'model': 'q7'}\n",
        "\n",
        "car['brand']\n",
        "\n",
        "#Access use get method\n",
        "\n",
        "car.get('model')\n",
        "\n",
        "#access use keys in keys() method\n",
        "\n",
        "#view object containing keys as a list - any changes can reflect the dict\n",
        "\n",
        "car_keys = car.keys()\n",
        "\n",
        "car['fuel'] = 'petrol'\n",
        "\n",
        "car_keys\n",
        "\n",
        "#access values using values() method\n",
        "#view object containing keys as a list - any changes can reflect the dict\n",
        "\n",
        "car_values = car.values()\n",
        "\n",
        "car_values\n",
        "\n",
        "#access items in the items method\n",
        "\n",
        "#view object containing keys as a list - any changes can reflect the dict\n",
        "\n",
        "car_items = car.items()\n",
        "\n",
        "car_items\n",
        "\n",
        "car['speed'] = '190'\n",
        "\n",
        "car_items"
      ],
      "metadata": {
        "colab": {
          "base_uri": "https://localhost:8080/"
        },
        "id": "p-0iZuappux9",
        "outputId": "a9e5e053-9c77-4257-ec61-91378e946b28"
      },
      "execution_count": null,
      "outputs": [
        {
          "output_type": "execute_result",
          "data": {
            "text/plain": [
              "dict_items([('brand', 'Audi'), ('model', 'q7'), ('fuel', 'petrol'), ('speed', '190')])"
            ]
          },
          "metadata": {},
          "execution_count": 14
        }
      ]
    },
    {
      "cell_type": "code",
      "source": [
        "#changing and adding\n",
        "\n",
        "#change values using key names\n",
        "\n",
        "car = {'brand': 'Audi', 'model': 'q7'}\n",
        "\n",
        "car[\"model\"] = 'q8'\n",
        "\n",
        "car\n",
        "\n",
        "#change use update() method\n",
        "\n",
        "car.update({'brand': 'TATA'})\n",
        "\n",
        "car\n",
        "\n",
        "#add new items use key names\n",
        "\n",
        "car['fuel'] = 'petrol'\n",
        "\n",
        "car\n",
        "\n",
        "#add new items use update() method\n",
        "\n",
        "car.update({'color': 'black'})\n",
        "\n",
        "car"
      ],
      "metadata": {
        "colab": {
          "base_uri": "https://localhost:8080/"
        },
        "id": "wMqr_g_3sF7L",
        "outputId": "114a49ee-4199-47e8-dc45-dc9de2a93f5e"
      },
      "execution_count": null,
      "outputs": [
        {
          "output_type": "execute_result",
          "data": {
            "text/plain": [
              "{'brand': 'TATA', 'model': 'q8', 'fuel': 'petrol', 'color': 'black'}"
            ]
          },
          "metadata": {},
          "execution_count": 18
        }
      ]
    },
    {
      "cell_type": "code",
      "source": [
        "#removing dictionary items\n",
        "\n",
        "#remove an item using pop() method\n",
        "\n",
        "car = {'brand': 'TATA', 'model': 'q8', 'fuel': 'petrol', 'color': 'black'}\n",
        "\n",
        "car.pop('model')\n",
        "\n",
        "car\n",
        "\n",
        "car.popitem() #return as a tuple\n",
        "\n",
        "car\n",
        "\n",
        "#using del keyword\n",
        "\n",
        "del car['fuel'] # does not return anything\n",
        "\n",
        "car\n",
        "\n",
        "#remove dict using del keyword\n",
        "\n",
        "del car\n",
        "\n",
        "#clear() method\n",
        "\n",
        "car = {'brand': 'TATA', 'model': 'q8', 'fuel': 'petrol', 'color': 'black'}\n",
        "\n",
        "car.clear() #dict not delete it's clear\n",
        "\n",
        "car"
      ],
      "metadata": {
        "colab": {
          "base_uri": "https://localhost:8080/"
        },
        "id": "9tmh1R6LzUOJ",
        "outputId": "541bdb7f-3a8c-49d0-edd6-cfb4b4950b0d"
      },
      "execution_count": null,
      "outputs": [
        {
          "output_type": "execute_result",
          "data": {
            "text/plain": [
              "{}"
            ]
          },
          "metadata": {},
          "execution_count": 25
        }
      ]
    },
    {
      "cell_type": "code",
      "source": [
        "#copying a dictionary\n",
        "\n",
        "#assignment operator cannot be used to copy immutable objects\n",
        "\n",
        "car = {'brand': 'TATA', 'model': 'q8', 'fuel': 'petrol', 'color': 'black'}\n",
        "\n",
        "\n",
        "car_copy = car\n",
        "\n",
        "car_copy['model'] = 'i10'\n",
        "\n",
        "car_copy\n",
        "\n",
        "#using copy()\n",
        "\n",
        "car_copy1 = car.copy()\n",
        "\n",
        "car_copy1['brand'] = \"lamborgini\"\n",
        "\n",
        "car_copy1\n",
        "\n",
        "#using dict()\n",
        "\n",
        "car_copy2 = dict(car)\n",
        "\n",
        "car_copy2['model'] = 'yu7'\n",
        "\n",
        "car_copy2\n",
        "\n",
        "car\n",
        "\n"
      ],
      "metadata": {
        "colab": {
          "base_uri": "https://localhost:8080/"
        },
        "id": "uxfMnl4w1tp2",
        "outputId": "2edb8c3b-6711-4c66-940f-f95ad1fe3436"
      },
      "execution_count": null,
      "outputs": [
        {
          "output_type": "execute_result",
          "data": {
            "text/plain": [
              "{'brand': 'TATA', 'model': 'i10', 'fuel': 'petrol', 'color': 'black'}"
            ]
          },
          "metadata": {},
          "execution_count": 34
        }
      ]
    },
    {
      "cell_type": "code",
      "source": [
        "#map\n",
        "\n",
        "A, B = map(int, input().split())"
      ],
      "metadata": {
        "id": "4CWoc1dWjXlu"
      },
      "execution_count": null,
      "outputs": []
    }
  ]
}